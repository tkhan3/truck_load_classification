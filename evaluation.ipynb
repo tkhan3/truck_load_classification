{
 "cells": [
  {
   "cell_type": "code",
   "execution_count": 1,
   "metadata": {},
   "outputs": [],
   "source": [
    "import pandas as pd"
   ]
  },
  {
   "cell_type": "code",
   "execution_count": 2,
   "metadata": {},
   "outputs": [],
   "source": [
    "import numpy as np\n",
    "import cv2\n",
    "import matplotlib.pyplot as plt\n",
    "import os"
   ]
  },
  {
   "cell_type": "code",
   "execution_count": 3,
   "metadata": {},
   "outputs": [],
   "source": [
    "base_path = '/media/alyaan/hdd/storage/truck_load/split details/data/'"
   ]
  },
  {
   "cell_type": "code",
   "execution_count": 4,
   "metadata": {},
   "outputs": [],
   "source": [
    "prediction_path = \"/home/alyaan/code/truck_load_classification/output\""
   ]
  },
  {
   "cell_type": "code",
   "execution_count": 5,
   "metadata": {},
   "outputs": [],
   "source": [
    "test_path = os.path.join(base_path,\"test.txt\")\n",
    "train_path = os.path.join(base_path,\"train.txt\")"
   ]
  },
  {
   "cell_type": "code",
   "execution_count": 6,
   "metadata": {},
   "outputs": [],
   "source": [
    "with open(test_path) as f:\n",
    "    test_split = f.readlines()"
   ]
  },
  {
   "cell_type": "code",
   "execution_count": 7,
   "metadata": {},
   "outputs": [],
   "source": [
    "with open(train_path) as f:\n",
    "    train_split = f.readlines()"
   ]
  },
  {
   "cell_type": "code",
   "execution_count": 8,
   "metadata": {},
   "outputs": [],
   "source": [
    "test_file_names = [file_name.split(\"/\")[-1].strip('\\n').split(\".\")[0] for file_name in test_split]"
   ]
  },
  {
   "cell_type": "code",
   "execution_count": 9,
   "metadata": {},
   "outputs": [],
   "source": [
    "train_file_names = [file_name.split(\"/\")[-1].strip('\\n').split(\".\")[0] for file_name in train_split]"
   ]
  },
  {
   "cell_type": "code",
   "execution_count": 10,
   "metadata": {},
   "outputs": [],
   "source": [
    "test_file_df = pd.DataFrame(test_file_names,columns=[\"image_name\"])\n",
    "test_file_df['split'] = 'test'"
   ]
  },
  {
   "cell_type": "code",
   "execution_count": 11,
   "metadata": {},
   "outputs": [],
   "source": [
    "train_file_df = pd.DataFrame(train_file_names,columns=[\"image_name\"])\n",
    "train_file_df['split'] = 'train'"
   ]
  },
  {
   "cell_type": "code",
   "execution_count": 12,
   "metadata": {},
   "outputs": [],
   "source": [
    "train_test_combined = pd.concat([train_file_df,test_file_df])"
   ]
  },
  {
   "cell_type": "code",
   "execution_count": 13,
   "metadata": {},
   "outputs": [
    {
     "data": {
      "text/plain": [
       "(713, 2)"
      ]
     },
     "execution_count": 13,
     "metadata": {},
     "output_type": "execute_result"
    }
   ],
   "source": [
    "train_test_combined.shape"
   ]
  },
  {
   "cell_type": "code",
   "execution_count": 14,
   "metadata": {},
   "outputs": [],
   "source": [
    "label_name_path = '/media/alyaan/hdd/storage/truck_load/split details/data/obj.names'"
   ]
  },
  {
   "cell_type": "code",
   "execution_count": 15,
   "metadata": {},
   "outputs": [],
   "source": [
    "class_labels = pd.read_csv(label_name_path,names=['label_names'])\n",
    "class_labels['gt_class_label'] = np.arange(len(class_labels))"
   ]
  },
  {
   "cell_type": "code",
   "execution_count": 16,
   "metadata": {},
   "outputs": [
    {
     "data": {
      "text/html": [
       "<div>\n",
       "<style scoped>\n",
       "    .dataframe tbody tr th:only-of-type {\n",
       "        vertical-align: middle;\n",
       "    }\n",
       "\n",
       "    .dataframe tbody tr th {\n",
       "        vertical-align: top;\n",
       "    }\n",
       "\n",
       "    .dataframe thead th {\n",
       "        text-align: right;\n",
       "    }\n",
       "</style>\n",
       "<table border=\"1\" class=\"dataframe\">\n",
       "  <thead>\n",
       "    <tr style=\"text-align: right;\">\n",
       "      <th></th>\n",
       "      <th>label_names</th>\n",
       "      <th>gt_class_label</th>\n",
       "    </tr>\n",
       "  </thead>\n",
       "  <tbody>\n",
       "    <tr>\n",
       "      <th>0</th>\n",
       "      <td>vehicle</td>\n",
       "      <td>0</td>\n",
       "    </tr>\n",
       "    <tr>\n",
       "      <th>1</th>\n",
       "      <td>vehicle_empty</td>\n",
       "      <td>1</td>\n",
       "    </tr>\n",
       "    <tr>\n",
       "      <th>2</th>\n",
       "      <td>vehicle_load</td>\n",
       "      <td>2</td>\n",
       "    </tr>\n",
       "  </tbody>\n",
       "</table>\n",
       "</div>"
      ],
      "text/plain": [
       "     label_names  gt_class_label\n",
       "0        vehicle               0\n",
       "1  vehicle_empty               1\n",
       "2   vehicle_load               2"
      ]
     },
     "execution_count": 16,
     "metadata": {},
     "output_type": "execute_result"
    }
   ],
   "source": [
    "class_labels"
   ]
  },
  {
   "cell_type": "code",
   "execution_count": 17,
   "metadata": {},
   "outputs": [],
   "source": [
    "orig_image_width = 1920\n",
    "orig_image_height = 1080"
   ]
  },
  {
   "cell_type": "code",
   "execution_count": 18,
   "metadata": {},
   "outputs": [],
   "source": [
    "yolo_image_width = 608\n",
    "yolo_image_height = 608"
   ]
  },
  {
   "cell_type": "code",
   "execution_count": 19,
   "metadata": {},
   "outputs": [],
   "source": [
    "file_extension = [\".txt\",\".jpeg\"]"
   ]
  },
  {
   "cell_type": "code",
   "execution_count": 20,
   "metadata": {},
   "outputs": [],
   "source": [
    "gt_class_name_label_path = \"/media/alyaan/hdd/storage/truck_load/ground_truth/obj.names\""
   ]
  },
  {
   "cell_type": "code",
   "execution_count": 21,
   "metadata": {},
   "outputs": [],
   "source": [
    "gt_annotatons_path = \"/media/alyaan/hdd/storage/truck_load/ground_truth/annotations\""
   ]
  },
  {
   "cell_type": "code",
   "execution_count": 22,
   "metadata": {},
   "outputs": [],
   "source": [
    "gt_file_name = os.listdir(gt_annotatons_path)\n",
    "annotation_files =[file for file in gt_file_name if file.split(\".\")[1] == \"txt\"]"
   ]
  },
  {
   "cell_type": "code",
   "execution_count": 23,
   "metadata": {},
   "outputs": [],
   "source": [
    "gt_col_names = [\"gt_class_label\",\"gt_xtopl\",\"gt_ybottomr\",\"gt_width\",\"gt_height\"]"
   ]
  },
  {
   "cell_type": "code",
   "execution_count": 24,
   "metadata": {},
   "outputs": [],
   "source": [
    "full_df_col_names = [\"image_name\"] + gt_col_names"
   ]
  },
  {
   "cell_type": "code",
   "execution_count": 25,
   "metadata": {},
   "outputs": [],
   "source": [
    "gt_full_df = pd.DataFrame(columns=full_df_col_names)\n",
    "for file in annotation_files:\n",
    "    file_path = os.path.join(gt_annotatons_path,file)\n",
    "    gt_image_annotations = pd.read_csv(file_path,delim_whitespace=True,header=None,names=gt_col_names)\n",
    "    gt_image_annotations['image_name'] = file.split(\".\")[0]\n",
    "    gt_full_df = gt_full_df.append(gt_image_annotations)"
   ]
  },
  {
   "cell_type": "code",
   "execution_count": 26,
   "metadata": {},
   "outputs": [],
   "source": [
    "gt_full_labels_df = pd.merge(gt_full_df,train_test_combined,how='inner',on='image_name')"
   ]
  },
  {
   "cell_type": "code",
   "execution_count": 27,
   "metadata": {},
   "outputs": [
    {
     "data": {
      "text/plain": [
       "Index(['image_name', 'gt_class_label', 'gt_xtopl', 'gt_ybottomr', 'gt_width',\n",
       "       'gt_height', 'split'],\n",
       "      dtype='object')"
      ]
     },
     "execution_count": 27,
     "metadata": {},
     "output_type": "execute_result"
    }
   ],
   "source": [
    "gt_full_labels_df.columns"
   ]
  },
  {
   "cell_type": "code",
   "execution_count": 28,
   "metadata": {},
   "outputs": [
    {
     "data": {
      "text/html": [
       "<div>\n",
       "<style scoped>\n",
       "    .dataframe tbody tr th:only-of-type {\n",
       "        vertical-align: middle;\n",
       "    }\n",
       "\n",
       "    .dataframe tbody tr th {\n",
       "        vertical-align: top;\n",
       "    }\n",
       "\n",
       "    .dataframe thead th {\n",
       "        text-align: right;\n",
       "    }\n",
       "</style>\n",
       "<table border=\"1\" class=\"dataframe\">\n",
       "  <thead>\n",
       "    <tr style=\"text-align: right;\">\n",
       "      <th></th>\n",
       "      <th>image_name</th>\n",
       "      <th>gt_class_label</th>\n",
       "      <th>gt_xtopl</th>\n",
       "      <th>gt_ybottomr</th>\n",
       "      <th>gt_width</th>\n",
       "      <th>gt_height</th>\n",
       "      <th>split</th>\n",
       "    </tr>\n",
       "  </thead>\n",
       "  <tbody>\n",
       "    <tr>\n",
       "      <th>20</th>\n",
       "      <td>1617858725292</td>\n",
       "      <td>0</td>\n",
       "      <td>0.50063</td>\n",
       "      <td>0.575500</td>\n",
       "      <td>0.99874</td>\n",
       "      <td>0.599519</td>\n",
       "      <td>test</td>\n",
       "    </tr>\n",
       "    <tr>\n",
       "      <th>21</th>\n",
       "      <td>1617858725292</td>\n",
       "      <td>2</td>\n",
       "      <td>0.45825</td>\n",
       "      <td>0.546722</td>\n",
       "      <td>0.91650</td>\n",
       "      <td>0.230222</td>\n",
       "      <td>test</td>\n",
       "    </tr>\n",
       "  </tbody>\n",
       "</table>\n",
       "</div>"
      ],
      "text/plain": [
       "       image_name gt_class_label  gt_xtopl  gt_ybottomr  gt_width  gt_height  \\\n",
       "20  1617858725292              0   0.50063     0.575500   0.99874   0.599519   \n",
       "21  1617858725292              2   0.45825     0.546722   0.91650   0.230222   \n",
       "\n",
       "   split  \n",
       "20  test  \n",
       "21  test  "
      ]
     },
     "execution_count": 28,
     "metadata": {},
     "output_type": "execute_result"
    }
   ],
   "source": [
    "gt_full_labels_df.query('split == \\'test\\'').head(2)"
   ]
  },
  {
   "cell_type": "code",
   "execution_count": 29,
   "metadata": {},
   "outputs": [
    {
     "data": {
      "text/html": [
       "<div>\n",
       "<style scoped>\n",
       "    .dataframe tbody tr th:only-of-type {\n",
       "        vertical-align: middle;\n",
       "    }\n",
       "\n",
       "    .dataframe tbody tr th {\n",
       "        vertical-align: top;\n",
       "    }\n",
       "\n",
       "    .dataframe thead th {\n",
       "        text-align: right;\n",
       "    }\n",
       "</style>\n",
       "<table border=\"1\" class=\"dataframe\">\n",
       "  <thead>\n",
       "    <tr style=\"text-align: right;\">\n",
       "      <th></th>\n",
       "      <th>image_name</th>\n",
       "      <th>gt_class_label</th>\n",
       "      <th>gt_xtopl</th>\n",
       "      <th>gt_ybottomr</th>\n",
       "      <th>gt_width</th>\n",
       "      <th>gt_height</th>\n",
       "      <th>split</th>\n",
       "    </tr>\n",
       "  </thead>\n",
       "  <tbody>\n",
       "    <tr>\n",
       "      <th>0</th>\n",
       "      <td>1617593545228</td>\n",
       "      <td>0</td>\n",
       "      <td>0.866862</td>\n",
       "      <td>0.549722</td>\n",
       "      <td>0.266276</td>\n",
       "      <td>0.557556</td>\n",
       "      <td>train</td>\n",
       "    </tr>\n",
       "    <tr>\n",
       "      <th>1</th>\n",
       "      <td>1617593545228</td>\n",
       "      <td>2</td>\n",
       "      <td>0.897279</td>\n",
       "      <td>0.417824</td>\n",
       "      <td>0.204359</td>\n",
       "      <td>0.195444</td>\n",
       "      <td>train</td>\n",
       "    </tr>\n",
       "    <tr>\n",
       "      <th>2</th>\n",
       "      <td>1619846400774</td>\n",
       "      <td>0</td>\n",
       "      <td>0.868547</td>\n",
       "      <td>0.570704</td>\n",
       "      <td>0.262906</td>\n",
       "      <td>0.601926</td>\n",
       "      <td>train</td>\n",
       "    </tr>\n",
       "  </tbody>\n",
       "</table>\n",
       "</div>"
      ],
      "text/plain": [
       "      image_name gt_class_label  gt_xtopl  gt_ybottomr  gt_width  gt_height  \\\n",
       "0  1617593545228              0  0.866862     0.549722  0.266276   0.557556   \n",
       "1  1617593545228              2  0.897279     0.417824  0.204359   0.195444   \n",
       "2  1619846400774              0  0.868547     0.570704  0.262906   0.601926   \n",
       "\n",
       "   split  \n",
       "0  train  \n",
       "1  train  \n",
       "2  train  "
      ]
     },
     "execution_count": 29,
     "metadata": {},
     "output_type": "execute_result"
    }
   ],
   "source": [
    "gt_full_labels_df.query('split == \\'train\\'').head(3)"
   ]
  },
  {
   "cell_type": "code",
   "execution_count": 30,
   "metadata": {},
   "outputs": [
    {
     "data": {
      "text/html": [
       "<div>\n",
       "<style scoped>\n",
       "    .dataframe tbody tr th:only-of-type {\n",
       "        vertical-align: middle;\n",
       "    }\n",
       "\n",
       "    .dataframe tbody tr th {\n",
       "        vertical-align: top;\n",
       "    }\n",
       "\n",
       "    .dataframe thead th {\n",
       "        text-align: right;\n",
       "    }\n",
       "</style>\n",
       "<table border=\"1\" class=\"dataframe\">\n",
       "  <thead>\n",
       "    <tr style=\"text-align: right;\">\n",
       "      <th></th>\n",
       "      <th>image_name</th>\n",
       "      <th>gt_class_label</th>\n",
       "      <th>gt_xtopl</th>\n",
       "      <th>gt_ybottomr</th>\n",
       "      <th>gt_width</th>\n",
       "      <th>gt_height</th>\n",
       "      <th>split</th>\n",
       "    </tr>\n",
       "  </thead>\n",
       "  <tbody>\n",
       "    <tr>\n",
       "      <th>20</th>\n",
       "      <td>1617858725292</td>\n",
       "      <td>0</td>\n",
       "      <td>0.500630</td>\n",
       "      <td>0.575500</td>\n",
       "      <td>0.998740</td>\n",
       "      <td>0.599519</td>\n",
       "      <td>test</td>\n",
       "    </tr>\n",
       "    <tr>\n",
       "      <th>21</th>\n",
       "      <td>1617858725292</td>\n",
       "      <td>2</td>\n",
       "      <td>0.458250</td>\n",
       "      <td>0.546722</td>\n",
       "      <td>0.916500</td>\n",
       "      <td>0.230222</td>\n",
       "      <td>test</td>\n",
       "    </tr>\n",
       "    <tr>\n",
       "      <th>56</th>\n",
       "      <td>1617940655557</td>\n",
       "      <td>0</td>\n",
       "      <td>0.863826</td>\n",
       "      <td>0.546722</td>\n",
       "      <td>0.272349</td>\n",
       "      <td>0.558759</td>\n",
       "      <td>test</td>\n",
       "    </tr>\n",
       "    <tr>\n",
       "      <th>57</th>\n",
       "      <td>1617940655557</td>\n",
       "      <td>2</td>\n",
       "      <td>0.891479</td>\n",
       "      <td>0.398042</td>\n",
       "      <td>0.217042</td>\n",
       "      <td>0.215824</td>\n",
       "      <td>test</td>\n",
       "    </tr>\n",
       "    <tr>\n",
       "      <th>64</th>\n",
       "      <td>1617942939123</td>\n",
       "      <td>0</td>\n",
       "      <td>0.883385</td>\n",
       "      <td>0.603079</td>\n",
       "      <td>0.233229</td>\n",
       "      <td>0.460435</td>\n",
       "      <td>test</td>\n",
       "    </tr>\n",
       "    <tr>\n",
       "      <th>...</th>\n",
       "      <td>...</td>\n",
       "      <td>...</td>\n",
       "      <td>...</td>\n",
       "      <td>...</td>\n",
       "      <td>...</td>\n",
       "      <td>...</td>\n",
       "      <td>...</td>\n",
       "    </tr>\n",
       "    <tr>\n",
       "      <th>689</th>\n",
       "      <td>1617864027440</td>\n",
       "      <td>2</td>\n",
       "      <td>0.900922</td>\n",
       "      <td>0.414829</td>\n",
       "      <td>0.198156</td>\n",
       "      <td>0.215824</td>\n",
       "      <td>test</td>\n",
       "    </tr>\n",
       "    <tr>\n",
       "      <th>696</th>\n",
       "      <td>1617858078801</td>\n",
       "      <td>0</td>\n",
       "      <td>0.500000</td>\n",
       "      <td>0.559912</td>\n",
       "      <td>1.000000</td>\n",
       "      <td>0.568343</td>\n",
       "      <td>test</td>\n",
       "    </tr>\n",
       "    <tr>\n",
       "      <th>697</th>\n",
       "      <td>1617858078801</td>\n",
       "      <td>2</td>\n",
       "      <td>0.455552</td>\n",
       "      <td>0.592306</td>\n",
       "      <td>0.911104</td>\n",
       "      <td>0.117556</td>\n",
       "      <td>test</td>\n",
       "    </tr>\n",
       "    <tr>\n",
       "      <th>720</th>\n",
       "      <td>1617854864251</td>\n",
       "      <td>0</td>\n",
       "      <td>0.855732</td>\n",
       "      <td>0.544324</td>\n",
       "      <td>0.288536</td>\n",
       "      <td>0.580333</td>\n",
       "      <td>test</td>\n",
       "    </tr>\n",
       "    <tr>\n",
       "      <th>721</th>\n",
       "      <td>1617854864251</td>\n",
       "      <td>2</td>\n",
       "      <td>0.880755</td>\n",
       "      <td>0.407634</td>\n",
       "      <td>0.230667</td>\n",
       "      <td>0.211028</td>\n",
       "      <td>test</td>\n",
       "    </tr>\n",
       "  </tbody>\n",
       "</table>\n",
       "<p>64 rows × 7 columns</p>\n",
       "</div>"
      ],
      "text/plain": [
       "        image_name gt_class_label  gt_xtopl  gt_ybottomr  gt_width  gt_height  \\\n",
       "20   1617858725292              0  0.500630     0.575500  0.998740   0.599519   \n",
       "21   1617858725292              2  0.458250     0.546722  0.916500   0.230222   \n",
       "56   1617940655557              0  0.863826     0.546722  0.272349   0.558759   \n",
       "57   1617940655557              2  0.891479     0.398042  0.217042   0.215824   \n",
       "64   1617942939123              0  0.883385     0.603079  0.233229   0.460435   \n",
       "..             ...            ...       ...          ...       ...        ...   \n",
       "689  1617864027440              2  0.900922     0.414829  0.198156   0.215824   \n",
       "696  1617858078801              0  0.500000     0.559912  1.000000   0.568343   \n",
       "697  1617858078801              2  0.455552     0.592306  0.911104   0.117556   \n",
       "720  1617854864251              0  0.855732     0.544324  0.288536   0.580333   \n",
       "721  1617854864251              2  0.880755     0.407634  0.230667   0.211028   \n",
       "\n",
       "    split  \n",
       "20   test  \n",
       "21   test  \n",
       "56   test  \n",
       "57   test  \n",
       "64   test  \n",
       "..    ...  \n",
       "689  test  \n",
       "696  test  \n",
       "697  test  \n",
       "720  test  \n",
       "721  test  \n",
       "\n",
       "[64 rows x 7 columns]"
      ]
     },
     "execution_count": 30,
     "metadata": {},
     "output_type": "execute_result"
    }
   ],
   "source": [
    "gt_full_labels_df[gt_full_labels_df.split == 'test']"
   ]
  },
  {
   "cell_type": "code",
   "execution_count": 31,
   "metadata": {},
   "outputs": [],
   "source": [
    "gt_full_labels_df = pd.merge(gt_full_labels_df,class_labels,how='left',on='gt_class_label')"
   ]
  },
  {
   "cell_type": "code",
   "execution_count": 32,
   "metadata": {},
   "outputs": [
    {
     "data": {
      "text/html": [
       "<div>\n",
       "<style scoped>\n",
       "    .dataframe tbody tr th:only-of-type {\n",
       "        vertical-align: middle;\n",
       "    }\n",
       "\n",
       "    .dataframe tbody tr th {\n",
       "        vertical-align: top;\n",
       "    }\n",
       "\n",
       "    .dataframe thead th {\n",
       "        text-align: right;\n",
       "    }\n",
       "</style>\n",
       "<table border=\"1\" class=\"dataframe\">\n",
       "  <thead>\n",
       "    <tr style=\"text-align: right;\">\n",
       "      <th></th>\n",
       "      <th>image_name</th>\n",
       "      <th>gt_class_label</th>\n",
       "      <th>gt_xtopl</th>\n",
       "      <th>gt_ybottomr</th>\n",
       "      <th>gt_width</th>\n",
       "      <th>gt_height</th>\n",
       "      <th>split</th>\n",
       "      <th>label_names</th>\n",
       "    </tr>\n",
       "  </thead>\n",
       "  <tbody>\n",
       "    <tr>\n",
       "      <th>0</th>\n",
       "      <td>1617593545228</td>\n",
       "      <td>0</td>\n",
       "      <td>0.866862</td>\n",
       "      <td>0.549722</td>\n",
       "      <td>0.266276</td>\n",
       "      <td>0.557556</td>\n",
       "      <td>train</td>\n",
       "      <td>vehicle</td>\n",
       "    </tr>\n",
       "    <tr>\n",
       "      <th>1</th>\n",
       "      <td>1617593545228</td>\n",
       "      <td>2</td>\n",
       "      <td>0.897279</td>\n",
       "      <td>0.417824</td>\n",
       "      <td>0.204359</td>\n",
       "      <td>0.195444</td>\n",
       "      <td>train</td>\n",
       "      <td>vehicle_load</td>\n",
       "    </tr>\n",
       "    <tr>\n",
       "      <th>2</th>\n",
       "      <td>1619846400774</td>\n",
       "      <td>0</td>\n",
       "      <td>0.868547</td>\n",
       "      <td>0.570704</td>\n",
       "      <td>0.262906</td>\n",
       "      <td>0.601926</td>\n",
       "      <td>train</td>\n",
       "      <td>vehicle</td>\n",
       "    </tr>\n",
       "  </tbody>\n",
       "</table>\n",
       "</div>"
      ],
      "text/plain": [
       "      image_name gt_class_label  gt_xtopl  gt_ybottomr  gt_width  gt_height  \\\n",
       "0  1617593545228              0  0.866862     0.549722  0.266276   0.557556   \n",
       "1  1617593545228              2  0.897279     0.417824  0.204359   0.195444   \n",
       "2  1619846400774              0  0.868547     0.570704  0.262906   0.601926   \n",
       "\n",
       "   split   label_names  \n",
       "0  train       vehicle  \n",
       "1  train  vehicle_load  \n",
       "2  train       vehicle  "
      ]
     },
     "execution_count": 32,
     "metadata": {},
     "output_type": "execute_result"
    }
   ],
   "source": [
    "gt_full_labels_df.head(3)"
   ]
  },
  {
   "cell_type": "code",
   "execution_count": 52,
   "metadata": {},
   "outputs": [],
   "source": [
    "pred_col_names = [\"pred_class_label\",\"pred_xtopl\",\"pred_ybottomr\",\"pred_width\",\"pred_height\",\"confidence\"]"
   ]
  },
  {
   "cell_type": "code",
   "execution_count": 53,
   "metadata": {},
   "outputs": [],
   "source": [
    "prediction_filename = os.listdir(prediction_path)"
   ]
  },
  {
   "cell_type": "code",
   "execution_count": 54,
   "metadata": {},
   "outputs": [],
   "source": [
    "pred_full_df = pd.DataFrame(columns=pred_col_names)\n",
    "for file in prediction_filename:\n",
    "    file_path = os.path.join(prediction_path,file)\n",
    "    prediction_text = pd.read_csv(file_path,delim_whitespace=True,header=None,names=pred_col_names)\n",
    "    prediction_text['image_name'] = file.split(\".\")[0]\n",
    "    pred_full_df = pred_full_df.append(prediction_text)"
   ]
  },
  {
   "cell_type": "code",
   "execution_count": 55,
   "metadata": {},
   "outputs": [
    {
     "data": {
      "text/html": [
       "<div>\n",
       "<style scoped>\n",
       "    .dataframe tbody tr th:only-of-type {\n",
       "        vertical-align: middle;\n",
       "    }\n",
       "\n",
       "    .dataframe tbody tr th {\n",
       "        vertical-align: top;\n",
       "    }\n",
       "\n",
       "    .dataframe thead th {\n",
       "        text-align: right;\n",
       "    }\n",
       "</style>\n",
       "<table border=\"1\" class=\"dataframe\">\n",
       "  <thead>\n",
       "    <tr style=\"text-align: right;\">\n",
       "      <th></th>\n",
       "      <th>pred_class_label</th>\n",
       "      <th>pred_xtopl</th>\n",
       "      <th>pred_ybottomr</th>\n",
       "      <th>pred_width</th>\n",
       "      <th>pred_height</th>\n",
       "      <th>confidence</th>\n",
       "      <th>image_name</th>\n",
       "    </tr>\n",
       "  </thead>\n",
       "  <tbody>\n",
       "    <tr>\n",
       "      <th>0</th>\n",
       "      <td>2</td>\n",
       "      <td>0.8962</td>\n",
       "      <td>0.4135</td>\n",
       "      <td>0.2089</td>\n",
       "      <td>0.2252</td>\n",
       "      <td>99.18</td>\n",
       "      <td>1619071431920</td>\n",
       "    </tr>\n",
       "    <tr>\n",
       "      <th>1</th>\n",
       "      <td>0</td>\n",
       "      <td>0.8609</td>\n",
       "      <td>0.5491</td>\n",
       "      <td>0.2797</td>\n",
       "      <td>0.5884</td>\n",
       "      <td>99.90</td>\n",
       "      <td>1619071431920</td>\n",
       "    </tr>\n",
       "    <tr>\n",
       "      <th>0</th>\n",
       "      <td>2</td>\n",
       "      <td>0.9030</td>\n",
       "      <td>0.4270</td>\n",
       "      <td>0.1982</td>\n",
       "      <td>0.2149</td>\n",
       "      <td>99.68</td>\n",
       "      <td>1618715170454</td>\n",
       "    </tr>\n",
       "    <tr>\n",
       "      <th>1</th>\n",
       "      <td>0</td>\n",
       "      <td>0.8713</td>\n",
       "      <td>0.5509</td>\n",
       "      <td>0.2544</td>\n",
       "      <td>0.5587</td>\n",
       "      <td>99.85</td>\n",
       "      <td>1618715170454</td>\n",
       "    </tr>\n",
       "    <tr>\n",
       "      <th>0</th>\n",
       "      <td>0</td>\n",
       "      <td>0.7669</td>\n",
       "      <td>0.5398</td>\n",
       "      <td>0.4806</td>\n",
       "      <td>0.4667</td>\n",
       "      <td>96.69</td>\n",
       "      <td>1617086814988</td>\n",
       "    </tr>\n",
       "  </tbody>\n",
       "</table>\n",
       "</div>"
      ],
      "text/plain": [
       "  pred_class_label  pred_xtopl  pred_ybottomr  pred_width  pred_height  \\\n",
       "0                2      0.8962         0.4135      0.2089       0.2252   \n",
       "1                0      0.8609         0.5491      0.2797       0.5884   \n",
       "0                2      0.9030         0.4270      0.1982       0.2149   \n",
       "1                0      0.8713         0.5509      0.2544       0.5587   \n",
       "0                0      0.7669         0.5398      0.4806       0.4667   \n",
       "\n",
       "   confidence     image_name  \n",
       "0       99.18  1619071431920  \n",
       "1       99.90  1619071431920  \n",
       "0       99.68  1618715170454  \n",
       "1       99.85  1618715170454  \n",
       "0       96.69  1617086814988  "
      ]
     },
     "execution_count": 55,
     "metadata": {},
     "output_type": "execute_result"
    }
   ],
   "source": [
    "pred_full_df.head()"
   ]
  },
  {
   "cell_type": "code",
   "execution_count": 56,
   "metadata": {},
   "outputs": [
    {
     "data": {
      "text/plain": [
       "(737, 7)"
      ]
     },
     "execution_count": 56,
     "metadata": {},
     "output_type": "execute_result"
    }
   ],
   "source": [
    "pred_full_df.shape"
   ]
  },
  {
   "cell_type": "code",
   "execution_count": null,
   "metadata": {},
   "outputs": [],
   "source": []
  },
  {
   "cell_type": "code",
   "execution_count": null,
   "metadata": {},
   "outputs": [],
   "source": [
    "len(prediction_filename)"
   ]
  },
  {
   "cell_type": "code",
   "execution_count": null,
   "metadata": {},
   "outputs": [],
   "source": [
    "prediction_filename[0:2]"
   ]
  },
  {
   "cell_type": "code",
   "execution_count": null,
   "metadata": {},
   "outputs": [],
   "source": [
    "len(test_file_names)"
   ]
  },
  {
   "cell_type": "code",
   "execution_count": null,
   "metadata": {},
   "outputs": [],
   "source": [
    "test_file_names[0:2]"
   ]
  },
  {
   "cell_type": "code",
   "execution_count": null,
   "metadata": {},
   "outputs": [],
   "source": [
    "len(set(test_file_names).intersection(set(prediction_filename)))"
   ]
  },
  {
   "cell_type": "code",
   "execution_count": null,
   "metadata": {},
   "outputs": [],
   "source": []
  }
 ],
 "metadata": {
  "kernelspec": {
   "display_name": "Python 3",
   "language": "python",
   "name": "python3"
  },
  "language_info": {
   "codemirror_mode": {
    "name": "ipython",
    "version": 3
   },
   "file_extension": ".py",
   "mimetype": "text/x-python",
   "name": "python",
   "nbconvert_exporter": "python",
   "pygments_lexer": "ipython3",
   "version": "3.8.10"
  }
 },
 "nbformat": 4,
 "nbformat_minor": 4
}
